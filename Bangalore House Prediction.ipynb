{
 "cells": [
  {
   "cell_type": "code",
   "execution_count": 3,
   "metadata": {},
   "outputs": [],
   "source": [
    "# Libraries\n",
    "import numpy as np         #Linear algebra\n",
    "import pandas as pd         # EDA & Data processing\n",
    "import seaborn as sns       # Statistial charts\n",
    "import matplotlib.pyplot as plt     # Statistical charts                                       \n",
    "from sklearn.model_selection import train_test_split, GridSearchCV, RandomizedSearchCV      # Hyperparametric tuning\n",
    "from scipy.stats import uniform\n",
    "from sklearn.impute import KNNImputer       # Missing Imputation\n",
    "from sklearn.preprocessing import StandardScaler        # Scaling    \n",
    "from sklearn.linear_model import LinearRegression       # Linear Regression\n",
    "from sklearn.ensemble import RandomForestRegressor, AdaBoostRegressor, GradientBoostingRegressor        # Random Forest, AdaBoost, Gradient Boost\n",
    "from sklearn.tree import DecisionTreeRegressor      # Decision Tree\n",
    "from sklearn.svm import SVR, LinearSVR      # Support Vector Machine\n",
    "from sklearn.neighbors import KNeighborsRegressor       # KNN \n",
    "from sklearn.metrics import mean_absolute_error, mean_squared_error, accuracy_score, r2_score       # Evaluation Metrice (MAE, MSE, Coefficient of Determination)\n",
    "import warnings     # Ignore warnings\n",
    "\n",
    "warnings.filterwarnings(\"ignore\")\n",
    "pd.set_option(\"display.max_columns\", None)\n",
    "pd.set_option(\"display.max_rows\", None)"
   ]
  },
  {
   "cell_type": "code",
   "execution_count": 4,
   "metadata": {},
   "outputs": [],
   "source": [
    "# Function for EDA\n",
    "def DataExp(df):\n",
    "    print(f\" Viewing df: \\n\\n{df.head()} \\n\\n------------------------------\")\n",
    "    print(f\" Rows & Columns: {df.shape} \\n\\n------------------------------\")\n",
    "    print(f\"Dimension: {df.ndim} \\n\\n------------------------------\")\n",
    "    print(f\"dftypes: \\n\\n{df.dtypes} \\n\\n------------------------------\")\n",
    "    print(f\"Null Values: \\n\\n{df.isna().sum()} \\n\\n------------------------------\")\n",
    "    print(f\"Duplicates: \\n\\n{df.duplicated().sum()} \\n\\n------------------------------\")\n",
    "    print(f\"No Of Unique Values: \\n\\n{df.apply(lambda x: x.nunique())}\\n\\n------------------------------\")\n",
    "    print(f\"Unique Values \\n\\n{df.apply(lambda x: x.unique())} \\n\\n-----------------------------\")\n",
    "    print(\"df Summary\")\n",
    "    print()\n",
    "    print(df.info())\n",
    "    print(\"------------------------------\\n\")\n",
    "    print(\"Checking Outliers\")\n",
    "    print()\n",
    "    NumericalCols = df.select_dtypes(include= \"number\").columns\n",
    "    NumCols = len(NumericalCols)\n",
    "\n",
    "    fig, axes = plt.subplots(nrows= NumCols//2, ncols= 4, figsize= (20, 3))\n",
    "    axes = axes.flatten()\n",
    "\n",
    "    for i, dafa in enumerate(NumericalCols):\n",
    "        sns.boxplot(x= df[dafa], ax= axes[i])\n",
    "\n",
    "    plt.tight_layout()\n",
    "\n",
    "    plt.show()\n",
    "    print(\"------------------------------\\n\")\n",
    "    print(f\"Categorical variables description: \\n\\n{df.select_dtypes(include= 'object').describe().T}\")\n",
    "    print(\"------------------------------\\n\")\n",
    "    print(f\"Continous variables description: \\n\\n{df.select_dtypes(include= 'number').describe().T.applymap(lambda x: format(x, '.2f'))}\")    \n",
    "    "
   ]
  },
  {
   "cell_type": "code",
   "execution_count": 5,
   "metadata": {},
   "outputs": [],
   "source": [
    "# Function for removing noise \n",
    "def StrtoFloat(name):\n",
    "    token = name.split('-')\n",
    "\n",
    "    if len(token) == 2:\n",
    "        return (float(token[0]) + float(token[1]))/2 \n",
    "    \n",
    "    try:\n",
    "        return float(name)\n",
    "\n",
    "    except:\n",
    "        return np.nan"
   ]
  },
  {
   "cell_type": "code",
   "execution_count": 6,
   "metadata": {},
   "outputs": [],
   "source": [
    "# Function for removing outliers\n",
    "def OutlierTreat(column):\n",
    "    if column.dtype in [float, int] :\n",
    "        q1 = column.quantile(0.25)\n",
    "        q3 = column.quantile(0.75)\n",
    "        iqr = q3 - q1\n",
    "        lc = q1 - 1.5 * iqr\n",
    "        uc = q3 + 1.5 * iqr\n",
    "\n",
    "        column = column.clip(lower= lc, upper= uc)\n",
    "        return column"
   ]
  },
  {
   "cell_type": "code",
   "execution_count": 7,
   "metadata": {},
   "outputs": [],
   "source": [
    "# Function to see the accuracy model wise \n",
    "\n",
    "def BestAlgorithm(Xtrain, Xtest, Ytrain, Ytest):\n",
    "    models = {\n",
    "        # \"Linear Regression\": (LinearRegression(), {\n",
    "        #     'fit_intercept': [True, False],\n",
    "        #     \"normalize\": [True, False]}),\n",
    "\n",
    "\n",
    "        # \"Decision Tree\": (DecisionTreeRegressor(random_state= 42), {\n",
    "        #     'max_depth': [None, 5, 10, 20, 30],\n",
    "        #     'min_samples_split': [2, 5, 10, 20],\n",
    "        #     'min_samples_leaf': [1, 2, 5, 10]}),\n",
    "\n",
    "        \"Random Forest\": (RandomForestRegressor(random_state= 42), {\n",
    "            \"n_estimators\": np.arange(50, 200, 5), \n",
    "            \"max_depth\": np.arange(1, 10, 1), \n",
    "            \"max_features\": [\"auto\", \"sqrt\", \"log2\", 0.2, 0.5],\n",
    "            \"min_samples_leaf\": np.arange(2, 10, 1),\n",
    "            \"min_samples_split\": np.arange(2, 10, 1)})\n",
    "            # ,\n",
    "        \n",
    "        # \"SVM\": (SVR(), {\n",
    "        #     'C': uniform(0.1, 10),\n",
    "        #     'epsilon': uniform(0.01, 1),\n",
    "        #     'kernel': ['linear', 'rbf', 'poly'],\n",
    "        #     'gamma': ['scale', 'auto', 0.001, 0.01, 0.1, 1]})\n",
    "\n",
    "        }\n",
    "\n",
    "    results= []\n",
    "\n",
    "    for name, (model, params) in models.items():\n",
    "        RandSearch = RandomizedSearchCV(estimator= model, param_distributions= params)\n",
    "        RandSearch.fit(Xtrain, Ytrain)\n",
    "        BestParams = RandSearch.best_params_\n",
    "        TrainigBestScore = RandSearch.best_score_\n",
    "        \n",
    "        if name == \"Linear Regression\":\n",
    "            TestingBestScore= r2_score(Ytest, LinearRegression(**RandSearch.best_params_).fit(Xtrain, Ytrain).predict(Xtest))\n",
    "\n",
    "        elif name == \"Decision Tree\":\n",
    "            TestingBestScore= r2_score(Ytest, DecisionTreeRegressor(**RandSearch.best_params_).fit(Xtrain, Ytrain).predict(Xtest))\n",
    "        \n",
    "        elif name == \"Random Forest\":\n",
    "            TestingBestScore= r2_score(Ytest, RandomForestRegressor(**RandSearch.best_params_).fit(Xtrain, Ytrain).predict(Xtest))\n",
    "    \n",
    "        else:\n",
    "            TestingBestScore= r2_score(Ytest, SVR(**RandSearch.best_params_).fit(Xtrain, Ytrain).predict(Xtest))\n",
    "\n",
    "        results.append({\"Model\": name, \n",
    "                        \"Best Parametres\": BestParams, \n",
    "                        \"Training Accuracy\": TrainigBestScore,\n",
    "                        \"Test Accuracy\": TestingBestScore\n",
    "                        })\n",
    "    results_df = pd.DataFrame(results)         \n",
    "    return results_df\n"
   ]
  },
  {
   "cell_type": "code",
   "execution_count": 8,
   "metadata": {},
   "outputs": [],
   "source": [
    "# Loading data\n",
    "HouseData = pd.read_csv(r\"C:\\Users\\HARSH\\OneDrive\\Desktop\\Projects\\Kaggle\\Bangalore House Prediction\\BHP_Dataset\\Bengaluru_House_Data.csv\")"
   ]
  },
  {
   "cell_type": "markdown",
   "metadata": {},
   "source": [
    "### Data Exploration"
   ]
  },
  {
   "cell_type": "code",
   "execution_count": 9,
   "metadata": {},
   "outputs": [
    {
     "name": "stdout",
     "output_type": "stream",
     "text": [
      " Viewing df: \n",
      "\n",
      "              area_type   availability                  location       size  \\\n",
      "0  Super built-up  Area         19-Dec  Electronic City Phase II      2 BHK   \n",
      "1            Plot  Area  Ready To Move          Chikka Tirupathi  4 Bedroom   \n",
      "2        Built-up  Area  Ready To Move               Uttarahalli      3 BHK   \n",
      "3  Super built-up  Area  Ready To Move        Lingadheeranahalli      3 BHK   \n",
      "4  Super built-up  Area  Ready To Move                  Kothanur      2 BHK   \n",
      "\n",
      "   society total_sqft  bath  balcony   price  \n",
      "0  Coomee        1056   2.0      1.0   39.07  \n",
      "1  Theanmp       2600   5.0      3.0  120.00  \n",
      "2      NaN       1440   2.0      3.0   62.00  \n",
      "3  Soiewre       1521   3.0      1.0   95.00  \n",
      "4      NaN       1200   2.0      1.0   51.00   \n",
      "\n",
      "------------------------------\n",
      " Rows & Columns: (13320, 9) \n",
      "\n",
      "------------------------------\n",
      "Dimension: 2 \n",
      "\n",
      "------------------------------\n",
      "dftypes: \n",
      "\n",
      "area_type        object\n",
      "availability     object\n",
      "location         object\n",
      "size             object\n",
      "society          object\n",
      "total_sqft       object\n",
      "bath            float64\n",
      "balcony         float64\n",
      "price           float64\n",
      "dtype: object \n",
      "\n",
      "------------------------------\n",
      "Null Values: \n",
      "\n",
      "area_type          0\n",
      "availability       0\n",
      "location           1\n",
      "size              16\n",
      "society         5502\n",
      "total_sqft         0\n",
      "bath              73\n",
      "balcony          609\n",
      "price              0\n",
      "dtype: int64 \n",
      "\n",
      "------------------------------\n",
      "Duplicates: \n",
      "\n",
      "529 \n",
      "\n",
      "------------------------------\n",
      "No Of Unique Values: \n",
      "\n",
      "area_type          4\n",
      "availability      81\n",
      "location        1305\n",
      "size              31\n",
      "society         2688\n",
      "total_sqft      2117\n",
      "bath              19\n",
      "balcony            4\n",
      "price           1994\n",
      "dtype: int64\n",
      "\n",
      "------------------------------\n",
      "Unique Values \n",
      "\n",
      "area_type       [Super built-up  Area, Plot  Area, Built-up  A...\n",
      "availability    [19-Dec, Ready To Move, 18-May, 18-Feb, 18-Nov...\n",
      "location        [Electronic City Phase II, Chikka Tirupathi, U...\n",
      "size            [2 BHK, 4 Bedroom, 3 BHK, 4 BHK, 6 Bedroom, 3 ...\n",
      "society         [Coomee , Theanmp, nan, Soiewre, DuenaTa, Jaad...\n",
      "total_sqft      [1056, 2600, 1440, 1521, 1200, 1170, 2732, 330...\n",
      "bath            [2.0, 5.0, 3.0, 4.0, 6.0, 1.0, 9.0, nan, 8.0, ...\n",
      "balcony                                 [1.0, 3.0, nan, 2.0, 0.0]\n",
      "price           [39.07, 120.0, 62.0, 95.0, 51.0, 38.0, 204.0, ...\n",
      "dtype: object \n",
      "\n",
      "-----------------------------\n",
      "df Summary\n",
      "\n",
      "<class 'pandas.core.frame.DataFrame'>\n",
      "RangeIndex: 13320 entries, 0 to 13319\n",
      "Data columns (total 9 columns):\n",
      " #   Column        Non-Null Count  Dtype  \n",
      "---  ------        --------------  -----  \n",
      " 0   area_type     13320 non-null  object \n",
      " 1   availability  13320 non-null  object \n",
      " 2   location      13319 non-null  object \n",
      " 3   size          13304 non-null  object \n",
      " 4   society       7818 non-null   object \n",
      " 5   total_sqft    13320 non-null  object \n",
      " 6   bath          13247 non-null  float64\n",
      " 7   balcony       12711 non-null  float64\n",
      " 8   price         13320 non-null  float64\n",
      "dtypes: float64(3), object(6)\n",
      "memory usage: 936.7+ KB\n",
      "None\n",
      "------------------------------\n",
      "\n",
      "Checking Outliers\n",
      "\n"
     ]
    },
    {
     "data": {
      "image/png": "[encoded data removed]",
      "text/plain": [
       "<Figure size 1440x216 with 4 Axes>"
      ]
     },
     "metadata": {
      "needs_background": "light"
     },
     "output_type": "display_data"
    },
    {
     "name": "stdout",
     "output_type": "stream",
     "text": [
      "------------------------------\n",
      "\n",
      "Categorical variables description: \n",
      "\n",
      "              count unique                   top   freq\n",
      "area_type     13320      4  Super built-up  Area   8790\n",
      "availability  13320     81         Ready To Move  10581\n",
      "location      13319   1305            Whitefield    540\n",
      "size          13304     31                 2 BHK   5199\n",
      "society        7818   2688               GrrvaGr     80\n",
      "total_sqft    13320   2117                  1200    843\n",
      "------------------------------\n",
      "\n",
      "Continous variables description: \n",
      "\n",
      "            count    mean     std   min    25%    50%     75%      max\n",
      "bath     13247.00    2.69    1.34  1.00   2.00   2.00    3.00    40.00\n",
      "balcony  12711.00    1.58    0.82  0.00   1.00   2.00    2.00     3.00\n",
      "price    13320.00  112.57  148.97  8.00  50.00  72.00  120.00  3600.00\n"
     ]
    }
   ],
   "source": [
    "DataExp(HouseData)"
   ]
  },
  {
   "cell_type": "markdown",
   "metadata": {},
   "source": [
    "### Data Processing"
   ]
  },
  {
   "cell_type": "code",
   "execution_count": 10,
   "metadata": {},
   "outputs": [],
   "source": [
    "# Grouping Locations\n",
    "Locationlessthan100 = HouseData.location.value_counts()[(HouseData.location.value_counts() <= 10)]\n",
    "HouseData.location= HouseData.location.apply(lambda x: \"others\" if x in Locationlessthan100 else x)\n"
   ]
  },
  {
   "cell_type": "code",
   "execution_count": 11,
   "metadata": {},
   "outputs": [],
   "source": [
    "# Noise Removal & TypeConversion\n",
    "\n",
    "HouseData[\"Bedroom\"] = pd.to_numeric(HouseData[\"size\"].str.split(expand= True)[0])\n",
    "HouseData[\"total_sqft\"] = pd.to_numeric(HouseData.total_sqft.apply(lambda x: StrtoFloat(x)))\n"
   ]
  },
  {
   "cell_type": "code",
   "execution_count": 12,
   "metadata": {},
   "outputs": [],
   "source": [
    "# Encoding Columns\n",
    "HouseData = HouseData.join(pd.get_dummies(HouseData[HouseData.select_dtypes(include= \"object\").columns.difference([\"availability\",\"size\", \"area_type\", \"society\"])], drop_first= True))\n",
    "\n",
    "# Dropping insignificant columns\n",
    "HouseData.drop(columns = [\"location\", \"area_type\", \"availability\",\"size\", \"society\"], inplace= True)\n"
   ]
  },
  {
   "cell_type": "code",
   "execution_count": 13,
   "metadata": {},
   "outputs": [],
   "source": [
    "# Missing Value Treatment\n",
    "\n",
    "imp = KNNImputer(n_neighbors= 9)\n",
    "HouseData = pd.DataFrame(data= imp.fit_transform(HouseData), columns= HouseData.columns)\n"
   ]
  },
  {
   "cell_type": "code",
   "execution_count": 14,
   "metadata": {},
   "outputs": [],
   "source": [
    "# Outlier Treatment\n",
    "HouseData[[\"total_sqft\", \"Bedroom\", \"bath\", \"price\"]] = HouseData[[\"total_sqft\", \"Bedroom\", \"bath\", \"price\"]].apply(lambda x: OutlierTreat(x))\n"
   ]
  },
  {
   "cell_type": "code",
   "execution_count": 15,
   "metadata": {},
   "outputs": [],
   "source": [
    "# Creating Derived Column\n",
    "# HouseData['price_per_sqft']=HouseData['price']*1000000/HouseData['total_sqft']"
   ]
  },
  {
   "cell_type": "markdown",
   "metadata": {},
   "source": [
    "### Splitting data"
   ]
  },
  {
   "cell_type": "code",
   "execution_count": 16,
   "metadata": {},
   "outputs": [],
   "source": [
    "X = HouseData.drop(columns = \"price\")\n",
    "y = HouseData.price"
   ]
  },
  {
   "cell_type": "code",
   "execution_count": 17,
   "metadata": {},
   "outputs": [
    {
     "data": {
      "text/plain": [
       "((9324, 245), (3996, 245), (9324,), (3996,))"
      ]
     },
     "execution_count": 17,
     "metadata": {},
     "output_type": "execute_result"
    }
   ],
   "source": [
    "# Splitting into training and testing data\n",
    "X_train, X_test, y_train, y_test = train_test_split(X, y, test_size= 0.3, random_state= 42)\n",
    "\n",
    "X_train.shape, X_test.shape, y_train.shape, y_test.shape        ## Slight view to the data"
   ]
  },
  {
   "cell_type": "code",
   "execution_count": 18,
   "metadata": {},
   "outputs": [],
   "source": [
    "# Scaling Data\n",
    "FeatStdscale = StandardScaler()\n",
    "X_train[[\"total_sqft\", \"Bedroom\", \"bath\", \"balcony\"]] = FeatStdscale.fit_transform(X_train[[\"total_sqft\", \"Bedroom\", \"bath\", \"balcony\"]])\n",
    "\n",
    "X_test[[\"total_sqft\", \"Bedroom\", \"bath\", \"balcony\"]] = FeatStdscale.transform(X_test[[\"total_sqft\", \"Bedroom\", \"bath\", \"balcony\"]])"
   ]
  },
  {
   "cell_type": "markdown",
   "metadata": {},
   "source": [
    "#### Model Creation & Evaluation"
   ]
  },
  {
   "cell_type": "code",
   "execution_count": 19,
   "metadata": {},
   "outputs": [],
   "source": [
    "result_df = BestAlgorithm(X_train, X_test,  y_train, y_test)"
   ]
  },
  {
   "cell_type": "code",
   "execution_count": 20,
   "metadata": {},
   "outputs": [
    {
     "data": {
      "text/html": [
       "<div>\n",
       "<style scoped>\n",
       "    .dataframe tbody tr th:only-of-type {\n",
       "        vertical-align: middle;\n",
       "    }\n",
       "\n",
       "    .dataframe tbody tr th {\n",
       "        vertical-align: top;\n",
       "    }\n",
       "\n",
       "    .dataframe thead th {\n",
       "        text-align: right;\n",
       "    }\n",
       "</style>\n",
       "<table border=\"1\" class=\"dataframe\">\n",
       "  <thead>\n",
       "    <tr style=\"text-align: right;\">\n",
       "      <th></th>\n",
       "      <th>Model</th>\n",
       "      <th>Best Parametres</th>\n",
       "      <th>Training Accuracy</th>\n",
       "      <th>Test Accuracy</th>\n",
       "    </tr>\n",
       "  </thead>\n",
       "  <tbody>\n",
       "    <tr>\n",
       "      <th>0</th>\n",
       "      <td>Random Forest</td>\n",
       "      <td>{'n_estimators': 90, 'min_samples_split': 9, '...</td>\n",
       "      <td>0.730761</td>\n",
       "      <td>0.744886</td>\n",
       "    </tr>\n",
       "  </tbody>\n",
       "</table>\n",
       "</div>"
      ],
      "text/plain": [
       "           Model                                    Best Parametres  \\\n",
       "0  Random Forest  {'n_estimators': 90, 'min_samples_split': 9, '...   \n",
       "\n",
       "   Training Accuracy  Test Accuracy  \n",
       "0           0.730761       0.744886  "
      ]
     },
     "execution_count": 20,
     "metadata": {},
     "output_type": "execute_result"
    }
   ],
   "source": [
    "result_df"
   ]
  },
  {
   "cell_type": "markdown",
   "metadata": {},
   "source": [
    "*Conclusion:*\n",
    "\n",
    "*From the above table we can see that random fores gives us the best training and testing accuracy hence we will incorporate it to predict the new unseen data.*"
   ]
  },
  {
   "cell_type": "code",
   "execution_count": 21,
   "metadata": {},
   "outputs": [
    {
     "data": {
      "text/html": [
       "<style>#sk-container-id-1 {color: black;background-color: white;}#sk-container-id-1 pre{padding: 0;}#sk-container-id-1 div.sk-toggleable {background-color: white;}#sk-container-id-1 label.sk-toggleable__label {cursor: pointer;display: block;width: 100%;margin-bottom: 0;padding: 0.3em;box-sizing: border-box;text-align: center;}#sk-container-id-1 label.sk-toggleable__label-arrow:before {content: \"▸\";float: left;margin-right: 0.25em;color: #696969;}#sk-container-id-1 label.sk-toggleable__label-arrow:hover:before {color: black;}#sk-container-id-1 div.sk-estimator:hover label.sk-toggleable__label-arrow:before {color: black;}#sk-container-id-1 div.sk-toggleable__content {max-height: 0;max-width: 0;overflow: hidden;text-align: left;background-color: #f0f8ff;}#sk-container-id-1 div.sk-toggleable__content pre {margin: 0.2em;color: black;border-radius: 0.25em;background-color: #f0f8ff;}#sk-container-id-1 input.sk-toggleable__control:checked~div.sk-toggleable__content {max-height: 200px;max-width: 100%;overflow: auto;}#sk-container-id-1 input.sk-toggleable__control:checked~label.sk-toggleable__label-arrow:before {content: \"▾\";}#sk-container-id-1 div.sk-estimator input.sk-toggleable__control:checked~label.sk-toggleable__label {background-color: #d4ebff;}#sk-container-id-1 div.sk-label input.sk-toggleable__control:checked~label.sk-toggleable__label {background-color: #d4ebff;}#sk-container-id-1 input.sk-hidden--visually {border: 0;clip: rect(1px 1px 1px 1px);clip: rect(1px, 1px, 1px, 1px);height: 1px;margin: -1px;overflow: hidden;padding: 0;position: absolute;width: 1px;}#sk-container-id-1 div.sk-estimator {font-family: monospace;background-color: #f0f8ff;border: 1px dotted black;border-radius: 0.25em;box-sizing: border-box;margin-bottom: 0.5em;}#sk-container-id-1 div.sk-estimator:hover {background-color: #d4ebff;}#sk-container-id-1 div.sk-parallel-item::after {content: \"\";width: 100%;border-bottom: 1px solid gray;flex-grow: 1;}#sk-container-id-1 div.sk-label:hover label.sk-toggleable__label {background-color: #d4ebff;}#sk-container-id-1 div.sk-serial::before {content: \"\";position: absolute;border-left: 1px solid gray;box-sizing: border-box;top: 0;bottom: 0;left: 50%;z-index: 0;}#sk-container-id-1 div.sk-serial {display: flex;flex-direction: column;align-items: center;background-color: white;padding-right: 0.2em;padding-left: 0.2em;position: relative;}#sk-container-id-1 div.sk-item {position: relative;z-index: 1;}#sk-container-id-1 div.sk-parallel {display: flex;align-items: stretch;justify-content: center;background-color: white;position: relative;}#sk-container-id-1 div.sk-item::before, #sk-container-id-1 div.sk-parallel-item::before {content: \"\";position: absolute;border-left: 1px solid gray;box-sizing: border-box;top: 0;bottom: 0;left: 50%;z-index: -1;}#sk-container-id-1 div.sk-parallel-item {display: flex;flex-direction: column;z-index: 1;position: relative;background-color: white;}#sk-container-id-1 div.sk-parallel-item:first-child::after {align-self: flex-end;width: 50%;}#sk-container-id-1 div.sk-parallel-item:last-child::after {align-self: flex-start;width: 50%;}#sk-container-id-1 div.sk-parallel-item:only-child::after {width: 0;}#sk-container-id-1 div.sk-dashed-wrapped {border: 1px dashed gray;margin: 0 0.4em 0.5em 0.4em;box-sizing: border-box;padding-bottom: 0.4em;background-color: white;}#sk-container-id-1 div.sk-label label {font-family: monospace;font-weight: bold;display: inline-block;line-height: 1.2em;}#sk-container-id-1 div.sk-label-container {text-align: center;}#sk-container-id-1 div.sk-container {/* jupyter's `normalize.less` sets `[hidden] { display: none; }` but bootstrap.min.css set `[hidden] { display: none !important; }` so we also need the `!important` here to be able to override the default hidden behavior on the sphinx rendered scikit-learn.org. See: https://github.com/scikit-learn/scikit-learn/issues/21755 */display: inline-block !important;position: relative;}#sk-container-id-1 div.sk-text-repr-fallback {display: none;}</style><div id=\"sk-container-id-1\" class=\"sk-top-container\"><div class=\"sk-text-repr-fallback\"><pre>RandomForestRegressor(max_depth=6, max_features=0.5, min_samples_leaf=7,\n",
       "                      min_samples_split=9, n_estimators=90, random_state=42)</pre><b>In a Jupyter environment, please rerun this cell to show the HTML representation or trust the notebook. <br />On GitHub, the HTML representation is unable to render, please try loading this page with nbviewer.org.</b></div><div class=\"sk-container\" hidden><div class=\"sk-item\"><div class=\"sk-estimator sk-toggleable\"><input class=\"sk-toggleable__control sk-hidden--visually\" id=\"sk-estimator-id-1\" type=\"checkbox\" checked><label for=\"sk-estimator-id-1\" class=\"sk-toggleable__label sk-toggleable__label-arrow\">RandomForestRegressor</label><div class=\"sk-toggleable__content\"><pre>RandomForestRegressor(max_depth=6, max_features=0.5, min_samples_leaf=7,\n",
       "                      min_samples_split=9, n_estimators=90, random_state=42)</pre></div></div></div></div></div>"
      ],
      "text/plain": [
       "RandomForestRegressor(max_depth=6, max_features=0.5, min_samples_leaf=7,\n",
       "                      min_samples_split=9, n_estimators=90, random_state=42)"
      ]
     },
     "execution_count": 21,
     "metadata": {},
     "output_type": "execute_result"
    }
   ],
   "source": [
    "# Storing Best Model\n",
    "BestModel = RandomForestRegressor(**result_df.loc[result_df.Model == \"Random Forest\", \"Best Parametres\"].values[0], random_state= 42)\n",
    "BestModel.fit(X_train, y_train)"
   ]
  },
  {
   "cell_type": "code",
   "execution_count": 22,
   "metadata": {},
   "outputs": [
    {
     "data": {
      "text/plain": [
       "0.7476727363025811"
      ]
     },
     "execution_count": 22,
     "metadata": {},
     "output_type": "execute_result"
    }
   ],
   "source": [
    "r2_score(y_train, BestModel.predict(X_train))"
   ]
  },
  {
   "cell_type": "code",
   "execution_count": null,
   "metadata": {},
   "outputs": [],
   "source": []
  }
 ],
 "metadata": {
  "kernelspec": {
   "display_name": "base",
   "language": "python",
   "name": "python3"
  },
  "language_info": {
   "codemirror_mode": {
    "name": "ipython",
    "version": 3
   },
   "file_extension": ".py",
   "mimetype": "text/x-python",
   "name": "python",
   "nbconvert_exporter": "python",
   "pygments_lexer": "ipython3",
   "version": "3.8.5"
  }
 },
 "nbformat": 4,
 "nbformat_minor": 2
}
